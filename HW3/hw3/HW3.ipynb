{
 "cells": [
  {
   "cell_type": "markdown",
   "id": "e25f4083",
   "metadata": {},
   "source": [
    "## EECS 545 Homework 3"
   ]
  },
  {
   "cell_type": "code",
   "execution_count": 1,
   "id": "09c57633",
   "metadata": {},
   "outputs": [],
   "source": [
    "import numpy as np\n",
    "import matplotlib.pyplot as plt"
   ]
  },
  {
   "cell_type": "markdown",
   "id": "3a4afec3",
   "metadata": {},
   "source": [
    "### Q4"
   ]
  },
  {
   "cell_type": "code",
   "execution_count": 2,
   "id": "96146182",
   "metadata": {},
   "outputs": [],
   "source": [
    "# EECS 545 HW3 Q4\n",
    "np.random.seed(545)\n",
    "\n",
    "# Instruction: use these hyperparameters for both (b) and (d)\n",
    "eta = 0.5\n",
    "C = 5\n",
    "iterNums = [5, 50, 100, 1000, 5000, 6000]"
   ]
  },
  {
   "cell_type": "code",
   "execution_count": 3,
   "id": "50bf8f30",
   "metadata": {},
   "outputs": [],
   "source": [
    "def svm_train_bgd(matrix: np.ndarray, label: np.ndarray, nIter: int):\n",
    "    # Implement your algorithm and return state (e.g., learned model)\n",
    "    state = {}\n",
    "    N, D = matrix.shape\n",
    "    w = np.zeros(D)\n",
    "    b = 0\n",
    "\n",
    "    for i in range(nIter):\n",
    "        temp_w, temp_b = 0, 0\n",
    "        for j in range(N):\n",
    "            ind = 1 if label[j] * (w @ matrix[j] + b) < 1 else 0\n",
    "            temp_w += ind * label[j] * matrix[j]\n",
    "            temp_b += ind * label[j]\n",
    "        grad_w = w - C * temp_w\n",
    "        grad_b = - C * temp_b\n",
    "        \n",
    "        alpha_i = eta / (1 + eta * i)\n",
    "        w -= alpha_i * grad_w\n",
    "        b -= 0.01 * alpha_i * grad_b\n",
    "        \n",
    "    state = {'w': w, 'b': b}\n",
    "    return state"
   ]
  },
  {
   "cell_type": "code",
   "execution_count": 4,
   "id": "f392a82a",
   "metadata": {},
   "outputs": [],
   "source": [
    "def svm_train_sgd(matrix: np.ndarray, label: np.ndarray, nIter: int):\n",
    "    # Implement your algorithm and return state (e.g., learned model)\n",
    "    state = {}\n",
    "    N, D = matrix.shape\n",
    "    w = np.zeros(D)\n",
    "    b = 0\n",
    "\n",
    "    for i in range(nIter):\n",
    "        for j in range(N):\n",
    "            ind = 1 if label[j] * (w @ matrix[j] + b) < 1 else 0\n",
    "            grad_w = w / N - C * ind * label[j] * matrix[j]\n",
    "            grad_b = - C * ind * label[j]\n",
    "            \n",
    "            alpha_i = eta / (1 + eta * i)\n",
    "            w -= alpha_i * grad_w\n",
    "            b -= 0.01 * alpha_i * grad_b\n",
    "    \n",
    "    state = {'w': w, 'b': b}\n",
    "    return state"
   ]
  },
  {
   "cell_type": "code",
   "execution_count": 5,
   "id": "88bfc979",
   "metadata": {},
   "outputs": [],
   "source": [
    "def svm_test(matrix: np.ndarray, state):\n",
    "    # Classify each test data as +1 or -1\n",
    "    output = np.ones( (matrix.shape[0], 1) )\n",
    "    \n",
    "    w = state['w']\n",
    "    b = state['b']\n",
    "    for i in range(matrix.shape[0]):\n",
    "        temp = w @ matrix[i].T\n",
    "        output[i] = 1 if temp >= 1 else -1\n",
    "    return output"
   ]
  },
  {
   "cell_type": "code",
   "execution_count": 6,
   "id": "74e75be5",
   "metadata": {},
   "outputs": [],
   "source": [
    "def evaluate(output: np.ndarray, label: np.ndarray, nIter: int) -> float:\n",
    "    # Use the code below to obtain the accuracy of your algorithm\n",
    "    accuracy = (label * output > 0).sum() * 1. / len(output)\n",
    "    print('[Iter {:4d}: accuracy = {:2.4f}%'.format(nIter, 100 * accuracy))\n",
    "\n",
    "    return accuracy"
   ]
  },
  {
   "cell_type": "code",
   "execution_count": 7,
   "id": "b7dd788a",
   "metadata": {},
   "outputs": [],
   "source": [
    "def load_data():\n",
    "    # Note1: label is {-1, +1}\n",
    "    # Note2: data matrix shape  = [Ndata, 4]\n",
    "    # Note3: label matrix shape = [Ndata, 1]\n",
    "\n",
    "    # Load data\n",
    "    q4_data = np.load('q4_data/q4_data.npy', allow_pickle=True).item()\n",
    "\n",
    "    train_x = q4_data['q4x_train']\n",
    "    train_y = q4_data['q4y_train']\n",
    "    test_x = q4_data['q4x_test']\n",
    "    test_y = q4_data['q4y_test']\n",
    "    return train_x, train_y, test_x, test_y"
   ]
  },
  {
   "cell_type": "code",
   "execution_count": 8,
   "id": "9251ca9c",
   "metadata": {},
   "outputs": [],
   "source": [
    "def run_bgd(train_x, train_y, test_x, test_y):\n",
    "    '''(c) Implement SVM using **batch gradient descent**.\n",
    "    For each of the nIter's, print out the following:\n",
    "\n",
    "    *   Parameter w\n",
    "    *   Parameter b\n",
    "    *   Test accuracy (%)\n",
    "    '''\n",
    "    for nIter in iterNums:\n",
    "        # Train\n",
    "        state = svm_train_bgd(train_x, train_y, nIter)\n",
    "\n",
    "        # TODO: Test and evluate\n",
    "        prediction = svm_test(test_x, state)\n",
    "        print(f'w: {state[\"w\"]}, b: {state[\"b\"]}')\n",
    "        evaluate(prediction, test_y, nIter)"
   ]
  },
  {
   "cell_type": "code",
   "execution_count": 9,
   "id": "8eeba3a3",
   "metadata": {},
   "outputs": [],
   "source": [
    "def run_sgd(train_x, train_y, test_x, test_y):\n",
    "    '''(c) Implement SVM using **stocahstic gradient descent**.\n",
    "    For each of the nIter's, print out the following:\n",
    "\n",
    "    *   Parameter w\n",
    "    *   Parameter b\n",
    "    *   Test accuracy (%)\n",
    "\n",
    "    [Note: Use the same hyperparameters as (b)]\n",
    "    [Note: If you implement it correctly, the running time will be ~15 sec]\n",
    "    '''\n",
    "    for nIter in iterNums:\n",
    "        # Train\n",
    "        state = svm_train_sgd(train_x, train_y, nIter)\n",
    "\n",
    "        # TODO: Test and evluate\n",
    "        prediction = svm_test(test_x, state)\n",
    "        print(f'w: {state[\"w\"]}, b: {state[\"b\"]}')\n",
    "        evaluate(prediction, test_y, nIter)"
   ]
  },
  {
   "cell_type": "code",
   "execution_count": 10,
   "id": "6aa261a1",
   "metadata": {},
   "outputs": [
    {
     "name": "stdout",
     "output_type": "stream",
     "text": [
      "w: [112.   -42.75 272.5  103.  ], b: [-0.12416667]\n",
      "[Iter    5: accuracy = 54.1667%\n",
      "w: [ -2.01960784 -11.94117647  25.85294118  11.54901961], b: [-0.37280358]\n",
      "[Iter   50: accuracy = 95.8333%\n",
      "w: [-2.55940594 -5.28217822 11.37623762  5.75742574], b: [-0.38285]\n",
      "[Iter  100: accuracy = 95.8333%\n",
      "w: [-0.46353646 -0.32617383  1.05394605  1.27872128], b: [-0.40401205]\n",
      "[Iter 1000: accuracy = 95.8333%\n",
      "w: [-0.32083583 -0.27904419  0.89262148  0.98660268], b: [-0.4184513]\n",
      "[Iter 5000: accuracy = 95.8333%\n",
      "w: [-0.32919513 -0.28186969  0.886019    0.97483753], b: [-0.4199084]\n",
      "[Iter 6000: accuracy = 95.8333%\n",
      "w: [-1.78136842 -3.12818738  8.55400016  5.20287663], b: [-0.05416667]\n",
      "[Iter    5: accuracy = 95.8333%\n",
      "w: [-1.37946899e+00  9.07974830e-04  2.58689377e+00  2.85570760e+00], b: [-0.08671111]\n",
      "[Iter   50: accuracy = 95.8333%\n",
      "w: [-1.25745166  0.11439094  1.70851556  2.31719145], b: [-0.09433571]\n",
      "[Iter  100: accuracy = 95.8333%\n",
      "w: [-0.48895966 -0.18986655  0.95735748  1.14001054], b: [-0.12014856]\n",
      "[Iter 1000: accuracy = 95.8333%\n",
      "w: [-0.42761221 -0.23477963  0.88908395  1.06544336], b: [-0.13850557]\n",
      "[Iter 5000: accuracy = 95.8333%\n",
      "w: [-0.44211714 -0.21435765  0.90972215  1.06365376], b: [-0.14003648]\n",
      "[Iter 6000: accuracy = 95.8333%\n"
     ]
    }
   ],
   "source": [
    "train_x, train_y, test_x, test_y = load_data()\n",
    "run_bgd(train_x, train_y, test_x, test_y)\n",
    "run_sgd(train_x, train_y, test_x, test_y)"
   ]
  },
  {
   "cell_type": "markdown",
   "id": "5ac10e8f",
   "metadata": {},
   "source": [
    "### Q5"
   ]
  },
  {
   "cell_type": "code",
   "execution_count": 11,
   "id": "36fae1f1",
   "metadata": {},
   "outputs": [],
   "source": [
    "from sklearn.svm import LinearSVC\n",
    "\n",
    "np.random.seed(545)"
   ]
  },
  {
   "cell_type": "code",
   "execution_count": 12,
   "id": "767aa84e",
   "metadata": {},
   "outputs": [],
   "source": [
    "def readMatrix(filename: str):\n",
    "    # Use the code below to read files\n",
    "    with open(filename, 'r') as fd:\n",
    "        hdr = fd.readline()\n",
    "        rows, cols = [int(s) for s in fd.readline().strip().split()]\n",
    "        tokens = fd.readline().strip().split()\n",
    "        matrix = np.zeros((rows, cols))\n",
    "        Y = []\n",
    "        for i, line in enumerate(fd):\n",
    "            nums = [int(x) for x in line.strip().split()]\n",
    "            Y.append(nums[0])\n",
    "            kv = np.array(nums[1:])\n",
    "            k = np.cumsum(kv[:-1:2])\n",
    "            v = kv[1::2]\n",
    "            matrix[i, k] = v\n",
    "        return matrix, tokens, np.array(Y)"
   ]
  },
  {
   "cell_type": "code",
   "execution_count": 13,
   "id": "e79e8f95",
   "metadata": {},
   "outputs": [],
   "source": [
    "def evaluate(output, label) -> float:\n",
    "    # Use the code below to obtain the accuracy of your algorithm\n",
    "    error = float((output != label).sum()) * 1. / len(output)\n",
    "    print('Error: {:2.4f}%'.format(100 * error))\n",
    "\n",
    "    return error"
   ]
  },
  {
   "cell_type": "code",
   "execution_count": 14,
   "id": "48b0d19d",
   "metadata": {},
   "outputs": [
    {
     "name": "stdout",
     "output_type": "stream",
     "text": [
      "Error: 0.3750%\n"
     ]
    },
    {
     "data": {
      "text/plain": [
       "0.00375"
      ]
     },
     "execution_count": 14,
     "metadata": {},
     "output_type": "execute_result"
    }
   ],
   "source": [
    "# Load files\n",
    "# Note 1: tokenlists (list of all tokens) from MATRIX.TRAIN and MATRIX.TEST are identical\n",
    "# Note 2: Spam emails are denoted as class 1, and non-spam ones as class 0.\n",
    "dataMatrix_train, tokenlist, category_train = readMatrix('q5_data/MATRIX.TRAIN')\n",
    "dataMatrix_test, tokenlist, category_test = readMatrix('q5_data/MATRIX.TEST')\n",
    "\n",
    "# Train\n",
    "model = LinearSVC(max_iter=20000).fit(dataMatrix_train, category_train)\n",
    "\n",
    "# Test and evluate\n",
    "prediction = model.predict(dataMatrix_test)\n",
    "evaluate(prediction, category_test)"
   ]
  },
  {
   "cell_type": "code",
   "execution_count": 15,
   "id": "3d1b658f",
   "metadata": {},
   "outputs": [
    {
     "name": "stdout",
     "output_type": "stream",
     "text": [
      "Training size: 50\n",
      "Number of support vectors: 35\n",
      "Error: 5.0000%\n",
      "Training size: 100\n",
      "Number of support vectors: 55\n",
      "Error: 3.0000%\n",
      "Training size: 200\n",
      "Number of support vectors: 87\n",
      "Error: 1.2500%\n",
      "Training size: 400\n",
      "Number of support vectors: 129\n",
      "Error: 1.0000%\n",
      "Training size: 800\n",
      "Number of support vectors: 196\n",
      "Error: 1.0000%\n",
      "Training size: 1400\n",
      "Number of support vectors: 234\n",
      "Error: 0.8750%\n"
     ]
    }
   ],
   "source": [
    "sizes = [50, 100, 200, 400, 800, 1400]\n",
    "errors = list()\n",
    "file_prefix = 'q5_data/MATRIX.TRAIN.'\n",
    "\n",
    "for s in sizes:\n",
    "    dataMatrix_train, tokenlist, category_train = readMatrix(f'{file_prefix + str(s)}')\n",
    "    model = LinearSVC().fit(dataMatrix_train, category_train)\n",
    "    prediction = model.predict(dataMatrix_test)\n",
    "    decision_function = model.decision_function(dataMatrix_train)\n",
    "    support_vector_indices = np.where(np.abs(decision_function) <= 1)[0]\n",
    "    support_vector_count = len(dataMatrix_train[support_vector_indices])\n",
    "\n",
    "    print(f'Training size: {s}')\n",
    "    print(f'Number of support vectors: {support_vector_count}')\n",
    "    errors.append(evaluate(prediction, category_test))"
   ]
  },
  {
   "cell_type": "code",
   "execution_count": 16,
   "id": "8c4f779e",
   "metadata": {},
   "outputs": [
    {
     "data": {
      "text/plain": [
       "Text(0, 0.5, 'Error')"
      ]
     },
     "execution_count": 16,
     "metadata": {},
     "output_type": "execute_result"
    },
    {
     "data": {
      "image/png": "[encoded data removed]",
      "text/plain": [
       "<Figure size 432x288 with 1 Axes>"
      ]
     },
     "metadata": {
      "needs_background": "light"
     },
     "output_type": "display_data"
    }
   ],
   "source": [
    "plt.plot(sizes, errors, '-ro')\n",
    "plt.xlabel('Training size')\n",
    "plt.ylabel('Error')"
   ]
  },
  {
   "cell_type": "code",
   "execution_count": null,
   "id": "d3320219",
   "metadata": {},
   "outputs": [],
   "source": []
  }
 ],
 "metadata": {
  "kernelspec": {
   "display_name": "Python 3",
   "language": "python",
   "name": "python3"
  },
  "language_info": {
   "codemirror_mode": {
    "name": "ipython",
    "version": 3
   },
   "file_extension": ".py",
   "mimetype": "text/x-python",
   "name": "python",
   "nbconvert_exporter": "python",
   "pygments_lexer": "ipython3",
   "version": "3.8.8"
  }
 },
 "nbformat": 4,
 "nbformat_minor": 5
}
