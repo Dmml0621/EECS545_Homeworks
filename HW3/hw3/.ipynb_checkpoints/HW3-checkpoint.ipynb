{
 "cells": [
  {
   "cell_type": "markdown",
   "id": "e25f4083",
   "metadata": {},
   "source": [
    "## EECS 545 Homework 3"
   ]
  },
  {
   "cell_type": "code",
   "execution_count": 1,
   "id": "09c57633",
   "metadata": {},
   "outputs": [],
   "source": [
    "import numpy as np\n",
    "import matplotlib.pyplot as plt"
   ]
  },
  {
   "cell_type": "markdown",
   "id": "3a4afec3",
   "metadata": {},
   "source": [
    "### Q4"
   ]
  },
  {
   "cell_type": "code",
   "execution_count": 2,
   "id": "96146182",
   "metadata": {},
   "outputs": [],
   "source": [
    "# EECS 545 HW3 Q4\n",
    "np.random.seed(545)\n",
    "\n",
    "# Instruction: use these hyperparameters for both (b) and (d)\n",
    "eta = 0.5\n",
    "C = 5\n",
    "iterNums = [5, 50, 100, 1000, 5000, 6000]"
   ]
  },
  {
   "cell_type": "code",
   "execution_count": 19,
   "id": "50bf8f30",
   "metadata": {},
   "outputs": [],
   "source": [
    "def svm_train_bgd(matrix: np.ndarray, label: np.ndarray, nIter: int):\n",
    "    # Implement your algorithm and return state (e.g., learned model)\n",
    "    state = {}\n",
    "    N, D = matrix.shape\n",
    "    w = np.zeros(D)\n",
    "    b = 0\n",
    "\n",
    "    for i in range(nIter):\n",
    "        temp_w, temp_b = 0, 0\n",
    "        for j in range(N):\n",
    "            ind = 1 if label[j] * (w @ matrix[j] + b) < 1 else 0\n",
    "            temp_w += ind * label[j] * matrix[j]\n",
    "            temp_b += ind * label[j]\n",
    "        grad_w = w - C * temp_w\n",
    "        grad_b = - C * temp_b\n",
    "        \n",
    "        alpha_i = eta / (1 + eta * i)\n",
    "        w -= alpha_i * grad_w\n",
    "        b -= 0.01 * alpha_i * grad_b\n",
    "        \n",
    "    state = {'w': w, 'b': b}\n",
    "    return state"
   ]
  },
  {
   "cell_type": "code",
   "execution_count": 20,
   "id": "f392a82a",
   "metadata": {},
   "outputs": [],
   "source": [
    "def svm_train_sgd(matrix: np.ndarray, label: np.ndarray, nIter: int):\n",
    "    # Implement your algorithm and return state (e.g., learned model)\n",
    "    state = {}\n",
    "    N, D = matrix.shape\n",
    "    w = np.zeros(D)\n",
    "    b = 0\n",
    "\n",
    "    for i in range(nIter):\n",
    "        for j in range(N):\n",
    "            ind = 1 if label[j] * (w @ matrix[j] + b) < 1 else 0\n",
    "            grad_w = w / N - C * ind * label[j] * matrix[j]\n",
    "            grad_b = - C * ind * label[j]\n",
    "            \n",
    "            alpha_i = eta / (1 + eta * i)\n",
    "            w -= alpha_i * grad_w\n",
    "            b -= 0.01 * alpha_i * grad_b\n",
    "    \n",
    "    state = {'w': w, 'b': b}\n",
    "    return state"
   ]
  },
  {
   "cell_type": "code",
   "execution_count": 13,
   "id": "88bfc979",
   "metadata": {},
   "outputs": [],
   "source": [
    "def svm_test(matrix: np.ndarray, state):\n",
    "    # Classify each test data as +1 or -1\n",
    "    output = np.ones( (matrix.shape[0], 1) )\n",
    "    \n",
    "    w = state['w']\n",
    "    b = state['b']\n",
    "    for i in range(matrix.shape[0]):\n",
    "        temp = w @ matrix[i].T\n",
    "        output[i] = 1 if temp >= 1 else -1\n",
    "    return output"
   ]
  },
  {
   "cell_type": "code",
   "execution_count": 14,
   "id": "74e75be5",
   "metadata": {},
   "outputs": [],
   "source": [
    "def evaluate(output: np.ndarray, label: np.ndarray, nIter: int) -> float:\n",
    "    # Use the code below to obtain the accuracy of your algorithm\n",
    "    accuracy = (label * output > 0).sum() * 1. / len(output)\n",
    "    print('[Iter {:4d}: accuracy = {:2.4f}%'.format(nIter, 100 * accuracy))\n",
    "\n",
    "    return accuracy"
   ]
  },
  {
   "cell_type": "code",
   "execution_count": 15,
   "id": "b7dd788a",
   "metadata": {},
   "outputs": [],
   "source": [
    "def load_data():\n",
    "    # Note1: label is {-1, +1}\n",
    "    # Note2: data matrix shape  = [Ndata, 4]\n",
    "    # Note3: label matrix shape = [Ndata, 1]\n",
    "\n",
    "    # Load data\n",
    "    q4_data = np.load('q4_data/q4_data.npy', allow_pickle=True).item()\n",
    "\n",
    "    train_x = q4_data['q4x_train']\n",
    "    train_y = q4_data['q4y_train']\n",
    "    test_x = q4_data['q4x_test']\n",
    "    test_y = q4_data['q4y_test']\n",
    "    return train_x, train_y, test_x, test_y"
   ]
  },
  {
   "cell_type": "code",
   "execution_count": 16,
   "id": "9251ca9c",
   "metadata": {},
   "outputs": [],
   "source": [
    "def run_bgd(train_x, train_y, test_x, test_y):\n",
    "    '''(c) Implement SVM using **batch gradient descent**.\n",
    "    For each of the nIter's, print out the following:\n",
    "\n",
    "    *   Parameter w\n",
    "    *   Parameter b\n",
    "    *   Test accuracy (%)\n",
    "    '''\n",
    "    for nIter in iterNums:\n",
    "        # Train\n",
    "        state = svm_train_bgd(train_x, train_y, nIter)\n",
    "\n",
    "        # TODO: Test and evluate\n",
    "        prediction = svm_test(test_x, state)\n",
    "        evaluate(prediction, test_y, nIter)"
   ]
  },
  {
   "cell_type": "code",
   "execution_count": 17,
   "id": "8eeba3a3",
   "metadata": {},
   "outputs": [],
   "source": [
    "def run_sgd(train_x, train_y, test_x, test_y):\n",
    "    '''(c) Implement SVM using **stocahstic gradient descent**.\n",
    "    For each of the nIter's, print out the following:\n",
    "\n",
    "    *   Parameter w\n",
    "    *   Parameter b\n",
    "    *   Test accuracy (%)\n",
    "\n",
    "    [Note: Use the same hyperparameters as (b)]\n",
    "    [Note: If you implement it correctly, the running time will be ~15 sec]\n",
    "    '''\n",
    "    for nIter in iterNums:\n",
    "        # Train\n",
    "        state = svm_train_sgd(train_x, train_y, nIter)\n",
    "\n",
    "        # TODO: Test and evluate\n",
    "        prediction = svm_test(test_x, state)\n",
    "        evaluate(prediction, test_y, nIter)"
   ]
  },
  {
   "cell_type": "code",
   "execution_count": 21,
   "id": "6aa261a1",
   "metadata": {},
   "outputs": [
    {
     "name": "stdout",
     "output_type": "stream",
     "text": [
      "[Iter    5: accuracy = 54.1667%\n",
      "[Iter   50: accuracy = 95.8333%\n",
      "[Iter  100: accuracy = 95.8333%\n",
      "[Iter 1000: accuracy = 95.8333%\n",
      "[Iter 5000: accuracy = 95.8333%\n",
      "[Iter 6000: accuracy = 95.8333%\n",
      "[Iter    5: accuracy = 95.8333%\n",
      "[Iter   50: accuracy = 95.8333%\n",
      "[Iter  100: accuracy = 95.8333%\n",
      "[Iter 1000: accuracy = 95.8333%\n",
      "[Iter 5000: accuracy = 95.8333%\n",
      "[Iter 6000: accuracy = 95.8333%\n"
     ]
    }
   ],
   "source": [
    "train_x, train_y, test_x, test_y = load_data()\n",
    "run_bgd(train_x, train_y, test_x, test_y)\n",
    "run_sgd(train_x, train_y, test_x, test_y)"
   ]
  },
  {
   "cell_type": "markdown",
   "id": "5ac10e8f",
   "metadata": {},
   "source": [
    "### Q5"
   ]
  },
  {
   "cell_type": "code",
   "execution_count": null,
   "id": "36fae1f1",
   "metadata": {},
   "outputs": [],
   "source": [
    "from sklearn.svm import LinearSVC\n",
    "\n",
    "np.random.seed(545)"
   ]
  },
  {
   "cell_type": "code",
   "execution_count": null,
   "id": "767aa84e",
   "metadata": {},
   "outputs": [],
   "source": [
    "def readMatrix(filename: str):\n",
    "    # Use the code below to read files\n",
    "    with open(filename, 'r') as fd:\n",
    "        hdr = fd.readline()\n",
    "        rows, cols = [int(s) for s in fd.readline().strip().split()]\n",
    "        tokens = fd.readline().strip().split()\n",
    "        matrix = np.zeros((rows, cols))\n",
    "        Y = []\n",
    "        for i, line in enumerate(fd):\n",
    "            nums = [int(x) for x in line.strip().split()]\n",
    "            Y.append(nums[0])\n",
    "            kv = np.array(nums[1:])\n",
    "            k = np.cumsum(kv[:-1:2])\n",
    "            v = kv[1::2]\n",
    "            matrix[i, k] = v\n",
    "        return matrix, tokens, np.array(Y)"
   ]
  },
  {
   "cell_type": "code",
   "execution_count": null,
   "id": "e79e8f95",
   "metadata": {},
   "outputs": [],
   "source": [
    "def evaluate(output, label) -> float:\n",
    "    # Use the code below to obtain the accuracy of your algorithm\n",
    "    error = float((output != label).sum()) * 1. / len(output)\n",
    "    print('Error: {:2.4f}%'.format(100 * error))\n",
    "\n",
    "    return error"
   ]
  },
  {
   "cell_type": "code",
   "execution_count": null,
   "id": "48b0d19d",
   "metadata": {},
   "outputs": [],
   "source": []
  }
 ],
 "metadata": {
  "kernelspec": {
   "display_name": "Python 3",
   "language": "python",
   "name": "python3"
  },
  "language_info": {
   "codemirror_mode": {
    "name": "ipython",
    "version": 3
   },
   "file_extension": ".py",
   "mimetype": "text/x-python",
   "name": "python",
   "nbconvert_exporter": "python",
   "pygments_lexer": "ipython3",
   "version": "3.8.8"
  }
 },
 "nbformat": 4,
 "nbformat_minor": 5
}
