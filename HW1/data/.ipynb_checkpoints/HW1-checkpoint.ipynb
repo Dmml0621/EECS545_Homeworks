{
 "cells": [
  {
   "cell_type": "markdown",
   "id": "de552c17",
   "metadata": {},
   "source": [
    "## EECS 545 Homework 1"
   ]
  },
  {
   "cell_type": "code",
   "execution_count": 1,
   "id": "db4dd45c",
   "metadata": {},
   "outputs": [],
   "source": [
    "import numpy as np\n",
    "from tqdm import tqdm\n",
    "from numpy.linalg import inv\n",
    "import matplotlib.pyplot as plt"
   ]
  },
  {
   "cell_type": "markdown",
   "id": "29151eb6",
   "metadata": {},
   "source": [
    "### Q1"
   ]
  },
  {
   "cell_type": "code",
   "execution_count": 2,
   "id": "b9e80189",
   "metadata": {},
   "outputs": [],
   "source": [
    "Q1x_train = np.load('q1xTrain.npy')\n",
    "Q1y_train = np.load('q1yTrain.npy')\n",
    "Q1x_test = np.load('q1xTest.npy')\n",
    "Q1y_test = np.load('q1yTest.npy')"
   ]
  },
  {
   "cell_type": "markdown",
   "id": "65c9e533",
   "metadata": {},
   "source": [
    "#### a"
   ]
  },
  {
   "cell_type": "code",
   "execution_count": 3,
   "id": "6d38ad45",
   "metadata": {},
   "outputs": [],
   "source": [
    "N = len(Q1x_train)\n",
    "x_train = np.append(Q1x_train.reshape(N, 1), np.ones((N, 1)), axis=1)\n",
    "y_train = Q1y_train"
   ]
  },
  {
   "cell_type": "code",
   "execution_count": 4,
   "id": "5b85992a",
   "metadata": {},
   "outputs": [],
   "source": [
    "def BGD(x_train, y_train, iterations=1000, degree=2, lr=0.01): \n",
    "    # input should be column vectors\n",
    "    W = np.ones(degree) # initialize weight to one\n",
    "    for i in tqdm(range(iterations)):\n",
    "        loss = np.dot(x_train, W) - y_train\n",
    "        W -= lr * np.dot(loss, x_train)\n",
    "    return W"
   ]
  },
  {
   "cell_type": "code",
   "execution_count": 5,
   "id": "b5eef3a1",
   "metadata": {},
   "outputs": [
    {
     "name": "stderr",
     "output_type": "stream",
     "text": [
      "100%|██████████████████████████████████████████████████████████████████████████| 2000/2000 [00:00<00:00, 249884.06it/s]\n"
     ]
    },
    {
     "data": {
      "text/plain": [
       "array([-2.82417908,  1.94689679])"
      ]
     },
     "execution_count": 5,
     "metadata": {},
     "output_type": "execute_result"
    }
   ],
   "source": [
    "BGD(x_train, y_train, iterations=2000)"
   ]
  },
  {
   "cell_type": "code",
   "execution_count": 6,
   "id": "ed27b42e",
   "metadata": {},
   "outputs": [],
   "source": [
    "def SGD(x_train, y_train, iterations=1000, degree=2, lr=0.01):\n",
    "    # input should be column vectors\n",
    "    N = len(y_train)\n",
    "    W = np.ones(degree) # initialize weight to one\n",
    "    for i in tqdm(range(iterations)):\n",
    "        for n in range(N):\n",
    "            W -= lr * np.dot(np.dot(x_train[n], W) - y_train[n], x_train[n])\n",
    "    return W"
   ]
  },
  {
   "cell_type": "code",
   "execution_count": 7,
   "id": "359078b5",
   "metadata": {},
   "outputs": [
    {
     "name": "stderr",
     "output_type": "stream",
     "text": [
      "100%|███████████████████████████████████████████████████████████████████████████| 1000/1000 [00:00<00:00, 13027.89it/s]\n"
     ]
    },
    {
     "data": {
      "text/plain": [
       "array([-2.82979555,  1.942896  ])"
      ]
     },
     "execution_count": 7,
     "metadata": {},
     "output_type": "execute_result"
    }
   ],
   "source": [
    "SGD(x_train, y_train, iterations=1000)"
   ]
  },
  {
   "cell_type": "code",
   "execution_count": 8,
   "id": "d11feb7d",
   "metadata": {},
   "outputs": [
    {
     "data": {
      "text/plain": [
       "array([-2.82417908,  1.9468968 ])"
      ]
     },
     "execution_count": 8,
     "metadata": {},
     "output_type": "execute_result"
    }
   ],
   "source": [
    "# closed form\n",
    "np.dot(inv(np.dot(x_train.T, x_train)), np.dot(x_train.T, y_train))"
   ]
  },
  {
   "cell_type": "markdown",
   "id": "1c76f45d",
   "metadata": {},
   "source": [
    "#### b"
   ]
  },
  {
   "cell_type": "code",
   "execution_count": 9,
   "id": "36a03b54",
   "metadata": {},
   "outputs": [],
   "source": [
    "def generate_phi(x, degree):\n",
    "    phi = np.ones(len(x)).reshape(len(x), 1)\n",
    "    for i in range(0, degree):\n",
    "        phi = np.append(phi, pow(x, i + 1).reshape(len(x), 1), axis=1)\n",
    "    # highest power first in result\n",
    "    return np.flip(phi, axis=1)"
   ]
  },
  {
   "cell_type": "code",
   "execution_count": 10,
   "id": "07188e50",
   "metadata": {},
   "outputs": [],
   "source": [
    "def closed_form(x_train, y_train):\n",
    "    # highest power first in result\n",
    "    return np.dot(inv(np.dot(x_train.T, x_train)), np.dot(x_train.T, y_train))"
   ]
  },
  {
   "cell_type": "code",
   "execution_count": 11,
   "id": "3b8ec953",
   "metadata": {},
   "outputs": [
    {
     "name": "stderr",
     "output_type": "stream",
     "text": [
      "100%|████████████████████████████████████████████████████████████████████████████████| 10/10 [00:00<00:00, 5000.96it/s]\n"
     ]
    }
   ],
   "source": [
    "train_error = list()\n",
    "test_error = list()\n",
    "\n",
    "y_test = Q1y_test\n",
    "degs = range(10)\n",
    "\n",
    "for deg in tqdm(degs):\n",
    "    train_feature = generate_phi(Q1x_train, deg)\n",
    "    test_feature = generate_phi(Q1x_test, deg)\n",
    "    W = closed_form(train_feature, y_train)\n",
    "    train_dy = train_feature @ W - y_train\n",
    "    train_rms = ((train_dy.T @ train_dy) / len(y_train)) ** 0.5\n",
    "    test_dy = test_feature @ W - y_test\n",
    "    test_rms = ((test_dy.T @ test_dy) / len(y_test)) ** 0.5\n",
    "    train_error.append(train_rms)\n",
    "    test_error.append(test_rms)"
   ]
  },
  {
   "cell_type": "code",
   "execution_count": 12,
   "id": "eca2db0e",
   "metadata": {},
   "outputs": [
    {
     "data": {
      "image/png": "[encoded data removed]",
      "text/plain": [
       "<Figure size 432x288 with 1 Axes>"
      ]
     },
     "metadata": {
      "needs_background": "light"
     },
     "output_type": "display_data"
    }
   ],
   "source": [
    "plt.plot(list(degs), train_error, '-bo', label='Training')\n",
    "plt.plot(list(degs), test_error, '-ro', label='Test')\n",
    "plt.legend()\n",
    "_ = plt.xlabel(r'M')\n",
    "_ = plt.ylabel(r'$E_{RMS}$')"
   ]
  },
  {
   "cell_type": "markdown",
   "id": "5a5ac3d5",
   "metadata": {},
   "source": [
    "#### c"
   ]
  },
  {
   "cell_type": "code",
   "execution_count": 13,
   "id": "9bbdf704",
   "metadata": {},
   "outputs": [],
   "source": [
    "def closed_form_l2(x_train, y_train, l, deg):\n",
    "    return np.dot(inv(np.dot(x_train.T, x_train) + l * np.identity(deg + 1)), np.dot(x_train.T, y_train))"
   ]
  },
  {
   "cell_type": "code",
   "execution_count": 14,
   "id": "cce67b23",
   "metadata": {},
   "outputs": [
    {
     "name": "stderr",
     "output_type": "stream",
     "text": [
      "100%|████████████████████████████████████████████████████████████████████████████████| 18/18 [00:00<00:00, 4499.25it/s]\n"
     ]
    }
   ],
   "source": [
    "# ls = np.append(np.array([0]), np.logspace(-8, 0, 9))\n",
    "ls = np.logspace(-17, 0, 18)\n",
    "deg_l2 = 9\n",
    "\n",
    "train_error_l2 = list()\n",
    "test_error_l2 = list()\n",
    "\n",
    "for l in tqdm(ls):\n",
    "    train_feature = generate_phi(Q1x_train, deg_l2)\n",
    "    test_feature = generate_phi(Q1x_test, deg_l2)\n",
    "    W = closed_form_l2(train_feature, y_train, l, deg_l2)\n",
    "    train_dy = train_feature @ W - y_train\n",
    "    train_rms = ((train_dy.T @ train_dy) / len(y_train)) ** 0.5\n",
    "    test_dy = test_feature @ W - y_test\n",
    "    test_rms = ((test_dy.T @ test_dy) / len(y_test)) ** 0.5\n",
    "    train_error_l2.append(train_rms)\n",
    "    test_error_l2.append(test_rms)"
   ]
  },
  {
   "cell_type": "code",
   "execution_count": 15,
   "id": "530905e1",
   "metadata": {},
   "outputs": [
    {
     "data": {
      "image/png": "[encoded data removed]",
      "text/plain": [
       "<Figure size 432x288 with 1 Axes>"
      ]
     },
     "metadata": {
      "needs_background": "light"
     },
     "output_type": "display_data"
    }
   ],
   "source": [
    "# ls[0] = 1e-17\n",
    "plt.plot(np.log(ls), train_error_l2, '-b', label='Training')\n",
    "plt.plot(np.log(ls), test_error_l2, '-r', label='Test')\n",
    "plt.legend()\n",
    "_ = plt.xlabel(r'$\\ln\\lambda$')\n",
    "_ = plt.ylabel(r'$E_{RMS}$')"
   ]
  },
  {
   "cell_type": "markdown",
   "id": "c004290b",
   "metadata": {},
   "source": [
    "### Q2"
   ]
  },
  {
   "cell_type": "markdown",
   "id": "c4c08b76",
   "metadata": {},
   "source": [
    "#### a"
   ]
  },
  {
   "cell_type": "code",
   "execution_count": 16,
   "id": "2aa800ba",
   "metadata": {},
   "outputs": [],
   "source": [
    "Q2x = np.load('q2x.npy')\n",
    "Q2y = np.load('q2y.npy')"
   ]
  },
  {
   "cell_type": "code",
   "execution_count": 17,
   "id": "b8bd7556",
   "metadata": {},
   "outputs": [],
   "source": [
    "N = len(Q2x)\n",
    "x_train = np.append(Q2x.reshape(N, 1), np.ones((N, 1)), axis=1)\n",
    "y_train = Q2y"
   ]
  },
  {
   "cell_type": "code",
   "execution_count": 18,
   "id": "c53878c1",
   "metadata": {},
   "outputs": [],
   "source": [
    "W = closed_form(x_train, y_train)"
   ]
  },
  {
   "cell_type": "code",
   "execution_count": 25,
   "id": "c03cf2ce",
   "metadata": {},
   "outputs": [
    {
     "data": {
      "text/plain": [
       "Text(0, 0.5, 'y')"
      ]
     },
     "execution_count": 25,
     "metadata": {},
     "output_type": "execute_result"
    },
    {
     "data": {
      "image/png": "[encoded data removed]",
      "text/plain": [
       "<Figure size 432x288 with 1 Axes>"
      ]
     },
     "metadata": {
      "needs_background": "light"
     },
     "output_type": "display_data"
    }
   ],
   "source": [
    "x = x_train\n",
    "plt.scatter(Q2x, Q2y, s=[5])\n",
    "plt.plot(x, x * W[0] + W[1], '-r')\n",
    "plt.xlabel(r'x')\n",
    "plt.ylabel(r'y')"
   ]
  },
  {
   "cell_type": "markdown",
   "id": "4897cbc3",
   "metadata": {},
   "source": [
    "#### b"
   ]
  },
  {
   "cell_type": "code",
   "execution_count": 26,
   "id": "5d3f308c",
   "metadata": {},
   "outputs": [],
   "source": [
    "def kernel(p, x, l):\n",
    "    N = x.shape[0]\n",
    "    W = np.mat(np.identity(N))\n",
    "    for i in range(N):\n",
    "        W[i, i] = np.exp(np.dot(p - x[i], p - x[i]) / (-2 * l * l))\n",
    "    return W"
   ]
  },
  {
   "cell_type": "code",
   "execution_count": 21,
   "id": "40433247",
   "metadata": {},
   "outputs": [],
   "source": [
    "def LWLR(x, y, l):\n",
    "    N = x.shape[0]\n",
    "    y_pred = np.zeros(N)\n",
    "    for i in range(N):\n",
    "        wt = kernel(x[i], x, l)\n",
    "        W_local = inv(x.T @ wt @ x) * (x.T @ wt @ y.T).T\n",
    "        y_pred[i] = np.dot(x[i], W_local)\n",
    "    return y_pred"
   ]
  },
  {
   "cell_type": "code",
   "execution_count": 22,
   "id": "8ddfe3eb",
   "metadata": {},
   "outputs": [],
   "source": [
    "y_pred_lwlr = LWLR(x_train, y_train, 0.8)"
   ]
  },
  {
   "cell_type": "code",
   "execution_count": 23,
   "id": "600925fd",
   "metadata": {},
   "outputs": [
    {
     "data": {
      "text/plain": [
       "Text(0.5, 1.0, '$\\\\lambda=0.8$')"
      ]
     },
     "execution_count": 23,
     "metadata": {},
     "output_type": "execute_result"
    },
    {
     "data": {
      "image/png": "[encoded data removed]",
      "text/plain": [
       "<Figure size 432x288 with 1 Axes>"
      ]
     },
     "metadata": {
      "needs_background": "light"
     },
     "output_type": "display_data"
    }
   ],
   "source": [
    "plt.scatter(Q2x, Q2y, s=[5], label='Original')\n",
    "plt.scatter(Q2x, y_pred_lwlr, s=[5], c='r', label='LWLR')\n",
    "plt.legend()\n",
    "plt.xlabel(r'x')\n",
    "plt.ylabel(r'y')\n",
    "plt.title(r'$\\lambda=0.8$')"
   ]
  },
  {
   "cell_type": "code",
   "execution_count": 24,
   "id": "3c5acd72",
   "metadata": {},
   "outputs": [
    {
     "data": {
      "text/plain": [
       "<matplotlib.legend.Legend at 0x198659162e0>"
      ]
     },
     "execution_count": 24,
     "metadata": {},
     "output_type": "execute_result"
    },
    {
     "data": {
      "image/png": "[encoded data removed]",
      "text/plain": [
       "<Figure size 864x648 with 4 Axes>"
      ]
     },
     "metadata": {
      "needs_background": "light"
     },
     "output_type": "display_data"
    }
   ],
   "source": [
    "f, ((ax1, ax2), (ax3, ax4)) = plt.subplots(2, 2, figsize=(12, 9))\n",
    "ax1.scatter(Q2x, Q2y, s=[3], label='Original')\n",
    "ax1.scatter(Q2x, LWLR(x_train, y_train, 0.1), s=[3], c='r', label='LWLR')\n",
    "ax1.set_title(r'$\\lambda=0.1$')\n",
    "ax1.legend()\n",
    "ax2.scatter(Q2x, Q2y, s=[3], label='Original')\n",
    "ax2.scatter(Q2x, LWLR(x_train, y_train, 0.3), s=[3], c='r', label='LWLR')\n",
    "ax2.set_title(r'$\\lambda=0.3$')\n",
    "ax2.legend()\n",
    "ax3.scatter(Q2x, Q2y, s=[3], label='Original')\n",
    "ax3.scatter(Q2x, LWLR(x_train, y_train, 2), s=[3], c='r', label='LWLR')\n",
    "ax3.set_title(r'$\\lambda=2$')\n",
    "ax3.legend()\n",
    "ax4.scatter(Q2x, Q2y, s=[3], label='Original')\n",
    "ax4.scatter(Q2x, LWLR(x_train, y_train, 10), s=[3], c='r', label='LWLR')\n",
    "ax4.set_title(r'$\\lambda=10$')\n",
    "ax4.legend()"
   ]
  },
  {
   "cell_type": "code",
   "execution_count": null,
   "id": "6299ec9a",
   "metadata": {},
   "outputs": [],
   "source": []
  }
 ],
 "metadata": {
  "kernelspec": {
   "display_name": "Python 3",
   "language": "python",
   "name": "python3"
  },
  "language_info": {
   "codemirror_mode": {
    "name": "ipython",
    "version": 3
   },
   "file_extension": ".py",
   "mimetype": "text/x-python",
   "name": "python",
   "nbconvert_exporter": "python",
   "pygments_lexer": "ipython3",
   "version": "3.8.8"
  }
 },
 "nbformat": 4,
 "nbformat_minor": 5
}
