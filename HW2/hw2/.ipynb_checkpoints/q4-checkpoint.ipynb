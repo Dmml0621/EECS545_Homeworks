{
 "cells": [
  {
   "cell_type": "code",
   "execution_count": 1,
   "metadata": {},
   "outputs": [],
   "source": [
    "import numpy as np\n",
    "import matplotlib.pyplot as plt\n",
    "\n",
    "def readMatrix(file):\n",
    "    # Use the code below to read files\n",
    "    fd = open(file, 'r')\n",
    "    hdr = fd.readline()\n",
    "    rows, cols = [int(s) for s in fd.readline().strip().split()]\n",
    "    tokens = fd.readline().strip().split()\n",
    "    matrix = np.zeros((rows, cols))\n",
    "    Y = []\n",
    "    for i, line in enumerate(fd):\n",
    "        nums = [int(x) for x in line.strip().split()]\n",
    "        Y.append(nums[0])\n",
    "        kv = np.array(nums[1:])\n",
    "        k = np.cumsum(kv[:-1:2])\n",
    "        v = kv[1::2]\n",
    "        matrix[i, k] = v\n",
    "    return matrix, tokens, np.array(Y)\n",
    "\n",
    "def nb_train(matrix, category):\n",
    "    # Implement your algorithm and return \n",
    "    state = {}\n",
    "    N = matrix.shape[1]\n",
    "    \n",
    "    ############################\n",
    "    # Implement your code here #\n",
    "    ############################\n",
    "    \n",
    "    return state\n",
    "\n",
    "def nb_test(matrix, state):\n",
    "    # Classify each email in the test set (each row of the document matrix) as 1 for SPAM and 0 for NON-SPAM\n",
    "    output = np.zeros(matrix.shape[0])\n",
    "    \n",
    "    ############################\n",
    "    # Implement your code here #\n",
    "    ############################\n",
    "    \n",
    "    return output\n",
    "\n",
    "def evaluate(output, label):\n",
    "    # Use the code below to obtain the accuracy of your algorithm\n",
    "    error = (output != label).sum() * 1. / len(output)\n",
    "    print('Error: {:2.4f}%'.format(100*error))"
   ]
  },
  {
   "cell_type": "code",
   "execution_count": 2,
   "metadata": {},
   "outputs": [
    {
     "name": "stdout",
     "output_type": "stream",
     "text": [
      "Error: 50.0000%\n"
     ]
    }
   ],
   "source": [
    "# Note1: tokenlists (list of all tokens) from MATRIX.TRAIN and MATRIX.TEST are identical\n",
    "# Note2: Spam emails are denoted as class 1, and non-spam ones as class 0.\n",
    "# Note3: The shape of the data matrix (document matrix): (number of emails) by (number of tokens)\n",
    "\n",
    "# Load files\n",
    "dataMatrix_train, tokenlist, category_train = readMatrix('q4_data/MATRIX.TRAIN')\n",
    "dataMatrix_test, tokenlist, category_test = readMatrix('q4_data/MATRIX.TEST')\n",
    "\n",
    "# Train\n",
    "state = nb_train(dataMatrix_train, category_train)\n",
    "\n",
    "# Test and evluate\n",
    "prediction = nb_test(dataMatrix_test, state)\n",
    "evaluate(prediction, category_test)"
   ]
  },
  {
   "cell_type": "code",
   "execution_count": null,
   "metadata": {},
   "outputs": [],
   "source": []
  }
 ],
 "metadata": {
  "kernelspec": {
   "display_name": "Python 3",
   "language": "python",
   "name": "python3"
  },
  "language_info": {
   "codemirror_mode": {
    "name": "ipython",
    "version": 3
   },
   "file_extension": ".py",
   "mimetype": "text/x-python",
   "name": "python",
   "nbconvert_exporter": "python",
   "pygments_lexer": "ipython3",
   "version": "3.7.3"
  }
 },
 "nbformat": 4,
 "nbformat_minor": 2
}
