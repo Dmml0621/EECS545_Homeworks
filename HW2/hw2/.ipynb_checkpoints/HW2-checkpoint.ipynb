{
 "cells": [
  {
   "cell_type": "markdown",
   "id": "b8fb3542",
   "metadata": {},
   "source": [
    "## EECS 545 Homework 2"
   ]
  },
  {
   "cell_type": "code",
   "execution_count": 1,
   "id": "8cab6d13",
   "metadata": {},
   "outputs": [],
   "source": [
    "import numpy as np\n",
    "import matplotlib.pyplot as plt"
   ]
  },
  {
   "cell_type": "markdown",
   "id": "be7cdf17",
   "metadata": {},
   "source": [
    "### Q1"
   ]
  },
  {
   "cell_type": "code",
   "execution_count": 2,
   "id": "02f92430",
   "metadata": {},
   "outputs": [],
   "source": [
    "X = np.load('q1x.npy')\n",
    "N = X.shape[0]\n",
    "Y = np.load('q1y.npy')\n",
    "# To consider intercept term, we append a column vector with all entries=1.\n",
    "# Then the coefficient correpsonding to this column is an intercept term.\n",
    "X = np.concatenate((np.ones((N, 1)), X), axis=1)"
   ]
  },
  {
   "cell_type": "code",
   "execution_count": 3,
   "id": "a4721dea",
   "metadata": {},
   "outputs": [],
   "source": [
    "def sigmoid(x, w):\n",
    "    return 1 / (1 + np.exp(-x @ w.T))\n",
    "\n",
    "def hessian(x, w):\n",
    "    s = np.identity(x.shape[0])\n",
    "    for i in range(x.shape[0]):\n",
    "        s[i, i] = sigmoid(x[i], w) * (1 - sigmoid(x[i], w))\n",
    "    return x.T @ s @ x"
   ]
  },
  {
   "cell_type": "code",
   "execution_count": 4,
   "id": "03236cdb",
   "metadata": {},
   "outputs": [],
   "source": [
    "def newton_LR(x, y, iter=2000):\n",
    "    w = np.zeros((x.shape[1],))\n",
    "    for i in range(iter):\n",
    "        g = x.T @ (sigmoid(x, w) - y)\n",
    "        h = hessian(x, w)\n",
    "        w -= np.linalg.inv(h) @ g\n",
    "    return w"
   ]
  },
  {
   "cell_type": "code",
   "execution_count": 5,
   "id": "0ea7555f",
   "metadata": {},
   "outputs": [
    {
     "name": "stdout",
     "output_type": "stream",
     "text": [
      "[-1.84922892 -0.62814188  0.85846843]\n"
     ]
    }
   ],
   "source": [
    "q1_w = newton_LR(X, Y, iter=3000)\n",
    "print(q1_w)"
   ]
  },
  {
   "cell_type": "code",
   "execution_count": 8,
   "id": "9b1c15e8",
   "metadata": {},
   "outputs": [
    {
     "data": {
      "text/plain": [
       "Text(0.5, 1.0, \"Logistic Regression with Newton's Method\")"
      ]
     },
     "execution_count": 8,
     "metadata": {},
     "output_type": "execute_result"
    },
    {
     "data": {
      "image/png": "[encoded data removed]",
      "text/plain": [
       "<Figure size 432x288 with 1 Axes>"
      ]
     },
     "metadata": {
      "needs_background": "light"
     },
     "output_type": "display_data"
    }
   ],
   "source": [
    "m = - q1_w[1] / q1_w[2]\n",
    "c = - q1_w[0] / q1_w[2]\n",
    "x_line = np.linspace(-4, 8)\n",
    "plt.scatter(X[:, 1], X[:, 2], c=Y)\n",
    "plt.plot(x_line, m * x_line + c, 'r--')\n",
    "plt.title('Logistic Regression with Newton\\'s Method')"
   ]
  },
  {
   "cell_type": "markdown",
   "id": "eeb7c016",
   "metadata": {},
   "source": [
    "### Q2"
   ]
  },
  {
   "cell_type": "code",
   "execution_count": 9,
   "id": "4bbddf9a",
   "metadata": {},
   "outputs": [],
   "source": [
    "q2_data = np.load('q2_data.npz')\n",
    "q2x_train = q2_data['q2x_train']\n",
    "q2y_train = q2_data['q2y_train']\n",
    "q2x_test = q2_data['q2x_test']\n",
    "q2y_test = q2_data['q2y_test']"
   ]
  },
  {
   "cell_type": "code",
   "execution_count": 10,
   "id": "031ef081",
   "metadata": {},
   "outputs": [],
   "source": [
    "def softmax_LR_train(x, y, lr=0.0005, iter=2000):\n",
    "    np.random.seed(42)\n",
    "    W = np.random.rand(max(y)[0].astype(int), x.shape[1])\n",
    "    W[-1] = np.zeros((1, x.shape[1]))\n",
    "    for j in range(iter):\n",
    "        for w in range(len(W) - 1):\n",
    "            g = np.zeros(x.shape[1])\n",
    "            for i in range(x.shape[0]):\n",
    "                temp = np.exp(W[w] @ x[i]) / (1 + sum(np.exp(W[:len(W) - 1, :] @ x[i])))\n",
    "                if y[i] == w + 1:\n",
    "                    g += (1 - temp) * x[i]\n",
    "                else:\n",
    "                    g += -temp * x[i]\n",
    "            W[w] += lr * g\n",
    "    return W"
   ]
  },
  {
   "cell_type": "code",
   "execution_count": 11,
   "id": "6a05ab95",
   "metadata": {},
   "outputs": [],
   "source": [
    "def softmax_LR_test(x, w):\n",
    "    y_pred = np.zeros(x.shape[0])\n",
    "    for i in range(len(x)):\n",
    "        y_pred[i] = np.argmax(w @ x[i]) + 1\n",
    "    return y_pred"
   ]
  },
  {
   "cell_type": "code",
   "execution_count": 34,
   "id": "3e930006",
   "metadata": {},
   "outputs": [],
   "source": [
    "def validate_LR(y_pred, y):\n",
    "    correct = 0\n",
    "    for i in range(len(y)):\n",
    "        if y_pred.tolist()[i] == y[i]:\n",
    "            correct += 1\n",
    "    print('Error: {:2.4f}%'.format(100 * (1 - correct / len(y))))"
   ]
  },
  {
   "cell_type": "code",
   "execution_count": 35,
   "id": "8149a7a7",
   "metadata": {},
   "outputs": [
    {
     "name": "stdout",
     "output_type": "stream",
     "text": [
      "Error: 6.0000%\n"
     ]
    }
   ],
   "source": [
    "q2_w = softmax_LR_train(q2x_train, q2y_train)\n",
    "q2_ypred = softmax_LR_test(q2x_test, q2_w)\n",
    "validate_LR(q2_ypred, q2y_test)"
   ]
  },
  {
   "cell_type": "markdown",
   "id": "3c33b6cc",
   "metadata": {},
   "source": [
    "### Q4"
   ]
  },
  {
   "cell_type": "code",
   "execution_count": 14,
   "id": "6a7b3417",
   "metadata": {},
   "outputs": [],
   "source": [
    "def readMatrix(file):\n",
    "    # Use the code below to read files\n",
    "    fd = open(file, 'r')\n",
    "    hdr = fd.readline()\n",
    "    rows, cols = [int(s) for s in fd.readline().strip().split()]\n",
    "    tokens = fd.readline().strip().split()\n",
    "    matrix = np.zeros((rows, cols))\n",
    "    Y = []\n",
    "    for i, line in enumerate(fd):\n",
    "        nums = [int(x) for x in line.strip().split()]\n",
    "        Y.append(nums[0])\n",
    "        kv = np.array(nums[1:])\n",
    "        k = np.cumsum(kv[:-1:2])\n",
    "        v = kv[1::2]\n",
    "        matrix[i, k] = v\n",
    "    return matrix, tokens, np.array(Y)"
   ]
  },
  {
   "cell_type": "code",
   "execution_count": 23,
   "id": "eb7e0897",
   "metadata": {},
   "outputs": [],
   "source": [
    "def evaluate(output, label):\n",
    "    # Use the code below to obtain the accuracy of your algorithm\n",
    "    error = (output != label).sum() * 1. / len(output)\n",
    "    print('Error: {:2.4f}%'.format(100*error))\n",
    "    return 100 * error"
   ]
  },
  {
   "cell_type": "code",
   "execution_count": 16,
   "id": "dd742874",
   "metadata": {},
   "outputs": [],
   "source": [
    "def nb_train(matrix, category):\n",
    "    # Implement your algorithm and return \n",
    "    state = {}\n",
    "    N, m = matrix.shape\n",
    "    state['Prior'] = [1 - sum(category) / len(category), sum(category) / len(category)]\n",
    "    \n",
    "    c_word_spam, c_word_nonspam = [0] * m, [0] * m\n",
    "    word_spam, word_nonspam = 0, 0\n",
    "    for r in range(N):\n",
    "        if category[r] == 1:\n",
    "            word_spam += sum(matrix[r])\n",
    "            for c in range(m):\n",
    "                c_word_spam[c] += matrix[r, c]\n",
    "        else:\n",
    "            word_nonspam += sum(matrix[r])\n",
    "            for c in range(m):\n",
    "                c_word_nonspam[c] += matrix[r, c]\n",
    "    \n",
    "    # Laplace smoothing\n",
    "    state['P(W|spam)'] = [(p + 1) / (word_spam + m) for p in c_word_spam]\n",
    "    state['P(W|nonspam)'] = [(p + 1) / (word_nonspam + m) for p in c_word_nonspam]\n",
    "    \n",
    "    return state"
   ]
  },
  {
   "cell_type": "code",
   "execution_count": 17,
   "id": "0876a10a",
   "metadata": {},
   "outputs": [],
   "source": [
    "def nb_test(matrix, state):\n",
    "    # Classify each email in the test set (each row of the document matrix) as 1 for SPAM and 0 for NON-SPAM\n",
    "    output = np.zeros(matrix.shape[0])\n",
    "    p_spam = state['P(W|spam)']\n",
    "    p_nonspam = state['P(W|nonspam)']\n",
    "    \n",
    "    for r in range(matrix.shape[0]):\n",
    "        sum_spam, sum_nonspam = np.log(state['Prior'][1]), np.log(state['Prior'][0])\n",
    "        for c in range(matrix.shape[1]):\n",
    "            sum_spam += matrix[r, c] * np.log(p_spam[c])\n",
    "            sum_nonspam += matrix[r, c] * np.log(p_nonspam[c])\n",
    "        if sum_spam > sum_nonspam:\n",
    "            output[r] = 1\n",
    "        else:\n",
    "            output[r] = 0\n",
    "            \n",
    "    return output"
   ]
  },
  {
   "cell_type": "code",
   "execution_count": 18,
   "id": "15ac1395",
   "metadata": {},
   "outputs": [
    {
     "name": "stdout",
     "output_type": "stream",
     "text": [
      "Error: 1.6250%\n"
     ]
    }
   ],
   "source": [
    "dataMatrix_train, tokenlist, category_train = readMatrix('q4_data/MATRIX.TRAIN')\n",
    "dataMatrix_test, tokenlist, category_test = readMatrix('q4_data/MATRIX.TEST')\n",
    "\n",
    "# Train\n",
    "state = nb_train(dataMatrix_train, category_train)\n",
    "\n",
    "# Test and evluate\n",
    "prediction = nb_test(dataMatrix_test, state)\n",
    "evaluate(prediction, category_test)"
   ]
  },
  {
   "cell_type": "code",
   "execution_count": 24,
   "id": "63afab7a",
   "metadata": {},
   "outputs": [
    {
     "name": "stdout",
     "output_type": "stream",
     "text": [
      "Training size: 50\n",
      "Error: 3.8750%\n",
      "Training size: 100\n",
      "Error: 2.6250%\n",
      "Training size: 200\n",
      "Error: 2.6250%\n",
      "Training size: 400\n",
      "Error: 1.8750%\n",
      "Training size: 800\n",
      "Error: 1.7500%\n",
      "Training size: 1400\n",
      "Error: 1.6250%\n"
     ]
    }
   ],
   "source": [
    "sizes = [50, 100, 200, 400, 800, 1400]\n",
    "errors = list()\n",
    "file_prefix = 'q4_data/MATRIX.TRAIN.'\n",
    "\n",
    "for s in sizes:\n",
    "    dataMatrix_train, tokenlist, category_train = readMatrix(f'{file_prefix + str(s)}')\n",
    "    state = nb_train(dataMatrix_train, category_train)\n",
    "    prediction = nb_test(dataMatrix_test, state)\n",
    "    print(f'Training size: {s}')\n",
    "    errors.append(evaluate(prediction, category_test))"
   ]
  },
  {
   "cell_type": "code",
   "execution_count": 29,
   "id": "5db28de0",
   "metadata": {},
   "outputs": [
    {
     "data": {
      "text/plain": [
       "Text(0, 0.5, 'Error (%)')"
      ]
     },
     "execution_count": 29,
     "metadata": {},
     "output_type": "execute_result"
    },
    {
     "data": {
      "image/png": "[encoded data removed]",
      "text/plain": [
       "<Figure size 432x288 with 1 Axes>"
      ]
     },
     "metadata": {
      "needs_background": "light"
     },
     "output_type": "display_data"
    }
   ],
   "source": [
    "plt.plot(sizes, errors, '-ro')\n",
    "plt.xlabel('Training size')\n",
    "plt.ylabel('Error (%)')"
   ]
  },
  {
   "cell_type": "code",
   "execution_count": null,
   "id": "b0897ac8",
   "metadata": {},
   "outputs": [],
   "source": []
  }
 ],
 "metadata": {
  "kernelspec": {
   "display_name": "Python 3",
   "language": "python",
   "name": "python3"
  },
  "language_info": {
   "codemirror_mode": {
    "name": "ipython",
    "version": 3
   },
   "file_extension": ".py",
   "mimetype": "text/x-python",
   "name": "python",
   "nbconvert_exporter": "python",
   "pygments_lexer": "ipython3",
   "version": "3.8.8"
  }
 },
 "nbformat": 4,
 "nbformat_minor": 5
}
